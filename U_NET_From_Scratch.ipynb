{
  "nbformat": 4,
  "nbformat_minor": 0,
  "metadata": {
    "colab": {
      "provenance": []
    },
    "kernelspec": {
      "name": "python3",
      "display_name": "Python 3"
    },
    "language_info": {
      "name": "python"
    }
  },
  "cells": [
    {
      "cell_type": "code",
      "execution_count": 1,
      "metadata": {
        "colab": {
          "base_uri": "https://localhost:8080/"
        },
        "id": "mOOQn_dNI2n1",
        "outputId": "36845da3-a7d6-4169-e15c-285a303289bf"
      },
      "outputs": [
        {
          "output_type": "stream",
          "name": "stdout",
          "text": [
            "Mounted at /content/drive\n"
          ]
        }
      ],
      "source": [
        "from google.colab import drive\n",
        "drive.mount('/content/drive')"
      ]
    },
    {
      "cell_type": "code",
      "source": [
        "import torch\n",
        "import torch.nn as nn\n",
        "import torch.functional as F"
      ],
      "metadata": {
        "id": "FX75XezXI_BE"
      },
      "execution_count": 2,
      "outputs": []
    },
    {
      "cell_type": "code",
      "source": [
        "def conv(in_channels, out_channels):\n",
        "  x = nn.Sequential(\n",
        "      nn.Conv2d(in_channels, out_channels, kernel_size=3),\n",
        "      nn.ReLU(),\n",
        "      nn.Conv2d(out_channels, out_channels, kernel_size=3),\n",
        "      nn.ReLU()\n",
        "  )\n",
        "  return x\n",
        "\n",
        "\n",
        "def up_conv(in_channels, out_channels):\n",
        "  x = nn.Sequential(\n",
        "      nn.Conv2d(in_channels, out_channels, kernel_size=2),\n",
        "      nn.ReLU(),\n",
        "      nn.Conv2d(out_channels, out_channels, kernel_size=2),\n",
        "      nn.ReLU()\n",
        "  )\n",
        "  return x\n",
        "\n",
        "\n",
        "def skip_connection(src, trg):\n",
        "  src_w = src.shape[2]\n",
        "  src_h = src.shape[3]\n",
        "\n",
        "  trg_w = trg.shape[2]\n",
        "  trg_h = trg.shape[3]\n",
        "\n",
        "  trg = trg[:, :, : src_w, :src_h]\n",
        "  return torch.cat((src, trg), 1)"
      ],
      "metadata": {
        "id": "eRdghtHdMpHC"
      },
      "execution_count": 3,
      "outputs": []
    },
    {
      "cell_type": "code",
      "source": [
        "class Encoder(nn.Module):\n",
        "  def __init__(self):\n",
        "    super().__init__()\n",
        "    \n",
        "    #block1:\n",
        "    self.conv_1 = conv(in_channels=3, out_channels=64)\n",
        "    self.max_pool_1 = nn.MaxPool2d(2,2)\n",
        "\n",
        "    #block2:\n",
        "    self.conv_2 = conv(64, 128)\n",
        "    self.max_pool_2 = nn.MaxPool2d(2,2)\n",
        "\n",
        "    #block3:\n",
        "    self.conv_3 = conv(128, 256)\n",
        "    self.max_pool_3 = nn.MaxPool2d(2,2)\n",
        "\n",
        "    #block4:\n",
        "    self.conv_4 = conv(256, 512)\n",
        "    self.max_pool_4 = nn.MaxPool2d(2,2)\n",
        "\n",
        "    #block5:\n",
        "    self.conv_5 = conv(512, 1024)\n",
        "    \n",
        "\n",
        "  def forward(self, img):\n",
        "    #block1\n",
        "    a1 = self.conv_1(img)\n",
        "    a2 = self.max_pool_1(a1)\n",
        "    print('First Convolution Block', a1.shape)\n",
        "\n",
        "    #block2\n",
        "    a3 = self.conv_2(a2)\n",
        "    a4 = self.max_pool_2(a3)\n",
        "    print('Second Convolution Block', a3.shape)\n",
        "\n",
        "    #block3\n",
        "    a5 = self.conv_3(a4)\n",
        "    a6 = self.max_pool_3(a5)\n",
        "    print('Third Convolution Block', a5.shape)\n",
        "\n",
        "    #block4\n",
        "    a7 = self.conv_4(a6)\n",
        "    a8 = self.max_pool_4(a7)\n",
        "    print('Fourth Convolution Block', a7.shape)\n",
        "\n",
        "    #block5\n",
        "    a9 = self.conv_5(a8)\n",
        "    print('Fifth Convolution Block', a9.shape)\n",
        "    \n",
        "\n",
        "    return a9, a7, a5, a3, a1\n",
        "\n",
        "\n",
        "class Decoder(nn.Module):\n",
        "  def __init__(self):\n",
        "    super().__init__()\n",
        "\n",
        "    #block1:\n",
        "    self.trans_1 = nn.ConvTranspose2d(1024, 512, kernel_size=2, stride=2)\n",
        "    self.up_conv_1 = conv(1024, 512)\n",
        "    \n",
        "    #block2:\n",
        "    self.trans_2 = nn.ConvTranspose2d(512, 256, kernel_size=2, stride=2)\n",
        "    self.up_conv_2 = conv(512, 256)\n",
        "\n",
        "    #block3:\n",
        "    self.trans_3 = nn.ConvTranspose2d(256, 128, kernel_size=2, stride=2)\n",
        "    self.up_conv_3 = conv(256, 128)\n",
        "\n",
        "    #block4:\n",
        "    self.trans_4 = nn.ConvTranspose2d(128, 64, kernel_size=2, stride=2)\n",
        "    self.up_conv_4 = conv(128, 64)\n",
        "    self.up_conv_5 = nn.Conv2d(in_channels=64, out_channels=2, kernel_size=1)\n",
        "\n",
        "    #encoder:\n",
        "    self.encoder = Encoder()\n",
        "\n",
        "\n",
        "  def forward(self, x):\n",
        "\n",
        "    #down sampling from the encoder\n",
        "    out = self.encoder(x)\n",
        "    a9 = out[0]\n",
        "    a7 = out[1]\n",
        "    a5 = out[2]\n",
        "    a3 = out[3]\n",
        "    a1 = out[4]\n",
        "    \n",
        "    #Now we begin the up sampling\n",
        "\n",
        "    #block1\n",
        "    trans1 = self.trans_1(a9)\n",
        "    skip_1 = skip_connection(trans1, a7)\n",
        "    up_conv_1 = self.up_conv_1(skip_1)\n",
        "    print('1st Upsampled Convolution')\n",
        "\n",
        "    #block2:\n",
        "    trans2 = self.trans_2(up_conv_1)\n",
        "    skip_2 = skip_connection(trans2, a5)\n",
        "    up_conv_2 = self.up_conv_2(skip_2)\n",
        "    print('2nd Upsampled Convolution')\n",
        "\n",
        "    #block3:\n",
        "    trans3 = self.trans_3(up_conv_2)\n",
        "    skip_3 = skip_connection(trans3, a3)\n",
        "    up_conv_3 = self.up_conv_3(skip_3)\n",
        "    print('3rd Upsampled Convolution')\n",
        "\n",
        "    #block2:\n",
        "    trans4 = self.trans_4(up_conv_3)\n",
        "    skip_4 = skip_connection(trans4, a1)\n",
        "    up_conv_4 = self.up_conv_4(skip_4)\n",
        "    print('4th Upsampled Convolution')\n",
        "\n",
        "    out = self.up_conv_5(up_conv_4)\n",
        "    print('Finally the output (FUCK YOU BITCH)', out.shape)\n",
        "    \n",
        "    return out"
      ],
      "metadata": {
        "id": "0ZxaXdnhNOFR"
      },
      "execution_count": 49,
      "outputs": []
    },
    {
      "cell_type": "code",
      "source": [
        "decoder = Decoder()"
      ],
      "metadata": {
        "id": "gmgwYPBIlGtB"
      },
      "execution_count": 50,
      "outputs": []
    },
    {
      "cell_type": "code",
      "source": [
        "x = torch.rand(1, 3, 572, 572)"
      ],
      "metadata": {
        "id": "Ea7cBYELlG_l"
      },
      "execution_count": 54,
      "outputs": []
    },
    {
      "cell_type": "code",
      "source": [
        "output = decoder(x)"
      ],
      "metadata": {
        "colab": {
          "base_uri": "https://localhost:8080/"
        },
        "id": "CKNy0FCGlHK3",
        "outputId": "71ad3557-1d79-41cb-a43f-ec2880e82f00"
      },
      "execution_count": 55,
      "outputs": [
        {
          "output_type": "stream",
          "name": "stdout",
          "text": [
            "First Convolution Block torch.Size([1, 64, 568, 568])\n",
            "Second Convolution Block torch.Size([1, 128, 280, 280])\n",
            "Third Convolution Block torch.Size([1, 256, 136, 136])\n",
            "Fourth Convolution Block torch.Size([1, 512, 64, 64])\n",
            "Fifth Convolution Block torch.Size([1, 1024, 28, 28])\n",
            "1st Upsampled Convolution\n",
            "2nd Upsampled Convolution\n",
            "3rd Upsampled Convolution\n",
            "4th Upsampled Convolution\n",
            "Finally the output (FUCK YOU BITCH) torch.Size([1, 2, 388, 388])\n"
          ]
        }
      ]
    },
    {
      "cell_type": "code",
      "source": [],
      "metadata": {
        "id": "GKS4ET0gopQ_"
      },
      "execution_count": null,
      "outputs": []
    }
  ]
}